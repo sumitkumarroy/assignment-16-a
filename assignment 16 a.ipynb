{
 "cells": [
  {
   "cell_type": "code",
   "execution_count": 1,
   "id": "c4fd3229",
   "metadata": {},
   "outputs": [
    {
     "data": {
      "text/plain": [
       "'Q1. What is Statistics?\\nStatistics is a branch of mathematics dealing with the collection, analysis, interpretation, presentation, and organization of \\ndata. It provides methods to design studies, collect data, summarize information, and draw meaningful conclusions.'"
      ]
     },
     "execution_count": 1,
     "metadata": {},
     "output_type": "execute_result"
    }
   ],
   "source": [
    "'''Q1. What is Statistics?\n",
    "Statistics is a branch of mathematics dealing with the collection, analysis, interpretation, presentation, and organization of \n",
    "data. It provides methods to design studies, collect data, summarize information, and draw meaningful conclusions.'''"
   ]
  },
  {
   "cell_type": "code",
   "execution_count": 2,
   "id": "2fb581c9",
   "metadata": {},
   "outputs": [
    {
     "data": {
      "text/plain": [
       "'\\nQ2. Define the different types of statistics and give an example of when each type might be used.\\nDescriptive Statistics:\\n\\nDescriptive statistics summarize and describe the main features of a dataset. They provide simple summaries about the sample and\\nthe measures.\\nExample: Calculating the mean, median, and mode of exam scores in a class to understand the average performance.\\nInferential Statistics:\\n\\nInferential statistics use a random sample of data taken from a population to make inferences about the population. It helps to\\ndraw conclusions and make predictions.\\nExample: Using a sample of voter surveys to predict the outcome of an election.\\n'"
      ]
     },
     "execution_count": 2,
     "metadata": {},
     "output_type": "execute_result"
    }
   ],
   "source": [
    "'''\n",
    "Q2. Define the different types of statistics and give an example of when each type might be used.\n",
    "Descriptive Statistics:\n",
    "\n",
    "Descriptive statistics summarize and describe the main features of a dataset. They provide simple summaries about the sample and\n",
    "the measures.\n",
    "Example: Calculating the mean, median, and mode of exam scores in a class to understand the average performance.\n",
    "Inferential Statistics:\n",
    "\n",
    "Inferential statistics use a random sample of data taken from a population to make inferences about the population. It helps to\n",
    "draw conclusions and make predictions.\n",
    "Example: Using a sample of voter surveys to predict the outcome of an election.\n",
    "'''"
   ]
  },
  {
   "cell_type": "code",
   "execution_count": 3,
   "id": "32f189e3",
   "metadata": {},
   "outputs": [
    {
     "data": {
      "text/plain": [
       "'\\nQ3. What are the different types of data and how do they differ from each other? Provide an example of each type of data.\\nQuantitative Data:\\n\\nQuantitative data represent quantities and are numerical. They can be measured and ordered.\\nExample: Heights of students in a class.\\nQualitative Data:\\n\\nQualitative data represent categories or characteristics. They describe attributes that do not have a numerical value.\\nExample: Eye colors of people (blue, green, brown).\\n'"
      ]
     },
     "execution_count": 3,
     "metadata": {},
     "output_type": "execute_result"
    }
   ],
   "source": [
    "'''\n",
    "Q3. What are the different types of data and how do they differ from each other? Provide an example of each type of data.\n",
    "Quantitative Data:\n",
    "\n",
    "Quantitative data represent quantities and are numerical. They can be measured and ordered.\n",
    "Example: Heights of students in a class.\n",
    "Qualitative Data:\n",
    "\n",
    "Qualitative data represent categories or characteristics. They describe attributes that do not have a numerical value.\n",
    "Example: Eye colors of people (blue, green, brown).\n",
    "'''"
   ]
  },
  {
   "cell_type": "code",
   "execution_count": 4,
   "id": "9dc34378",
   "metadata": {},
   "outputs": [
    {
     "data": {
      "text/plain": [
       "'\\nQ4. Categorize the following datasets with respect to quantitative and qualitative data types:\\n(i) Grading in exam: A+, A, B+, B, C+, C, D, E\\n\\nQualitative\\n(ii) Colour of mangoes: yellow, green, orange, red\\n\\nQualitative\\n(iii) Height data of a class: [178.9, 179, 179.5, 176, 177.2, 178.3, 175.8,...]\\n\\nQuantitative\\n(iv) Number of mangoes exported by a farm: [500, 600, 478, 672, ...]\\n\\nQuantitative\\n'"
      ]
     },
     "execution_count": 4,
     "metadata": {},
     "output_type": "execute_result"
    }
   ],
   "source": [
    "'''\n",
    "Q4. Categorize the following datasets with respect to quantitative and qualitative data types:\n",
    "(i) Grading in exam: A+, A, B+, B, C+, C, D, E\n",
    "\n",
    "Qualitative\n",
    "(ii) Colour of mangoes: yellow, green, orange, red\n",
    "\n",
    "Qualitative\n",
    "(iii) Height data of a class: [178.9, 179, 179.5, 176, 177.2, 178.3, 175.8,...]\n",
    "\n",
    "Quantitative\n",
    "(iv) Number of mangoes exported by a farm: [500, 600, 478, 672, ...]\n",
    "\n",
    "Quantitative\n",
    "'''"
   ]
  },
  {
   "cell_type": "code",
   "execution_count": 5,
   "id": "c4eb8fe9",
   "metadata": {},
   "outputs": [
    {
     "data": {
      "text/plain": [
       "'\\nNominal:\\n\\nCategorical data without a specific order.\\nExample: Types of fruits (apple, banana, orange).\\nOrdinal:\\n\\nCategorical data with a specific order but no equal intervals.\\nExample: Education levels (high school, bachelor’s, master’s, PhD).\\nInterval:\\n\\nNumerical data with equal intervals between values but no true zero point.\\nExample: Temperature in Celsius.\\nRatio:\\n\\nNumerical data with equal intervals between values and a true zero point.\\nExample: Weight of a person.\\n'"
      ]
     },
     "execution_count": 5,
     "metadata": {},
     "output_type": "execute_result"
    }
   ],
   "source": [
    "'''\n",
    "Nominal:\n",
    "\n",
    "Categorical data without a specific order.\n",
    "Example: Types of fruits (apple, banana, orange).\n",
    "Ordinal:\n",
    "\n",
    "Categorical data with a specific order but no equal intervals.\n",
    "Example: Education levels (high school, bachelor’s, master’s, PhD).\n",
    "Interval:\n",
    "\n",
    "Numerical data with equal intervals between values but no true zero point.\n",
    "Example: Temperature in Celsius.\n",
    "Ratio:\n",
    "\n",
    "Numerical data with equal intervals between values and a true zero point.\n",
    "Example: Weight of a person.\n",
    "'''"
   ]
  },
  {
   "cell_type": "code",
   "execution_count": 6,
   "id": "943eeb3f",
   "metadata": {},
   "outputs": [
    {
     "data": {
      "text/plain": [
       "'\\nQ6.Why is it important to understand the level of measurement when analyzing data? Provide an example to illustrate your answer.\\nUnderstanding the level of measurement is crucial because it determines the type of statistical analysis that can be performed. \\nFor example, calculating the mean of nominal data (like types of fruits) is meaningless, while it is appropriate for interval or\\nratio data (like temperatures or weights). Knowing the level helps in choosing the correct statistical tools and methods.\\n'"
      ]
     },
     "execution_count": 6,
     "metadata": {},
     "output_type": "execute_result"
    }
   ],
   "source": [
    "'''\n",
    "Q6.Why is it important to understand the level of measurement when analyzing data? Provide an example to illustrate your answer.\n",
    "Understanding the level of measurement is crucial because it determines the type of statistical analysis that can be performed. \n",
    "For example, calculating the mean of nominal data (like types of fruits) is meaningless, while it is appropriate for interval or\n",
    "ratio data (like temperatures or weights). Knowing the level helps in choosing the correct statistical tools and methods.\n",
    "'''"
   ]
  },
  {
   "cell_type": "code",
   "execution_count": 7,
   "id": "2ea08872",
   "metadata": {},
   "outputs": [
    {
     "data": {
      "text/plain": [
       "'\\nQ7. How is the nominal data type different from the ordinal data type?\\nNominal Data:\\n\\nRepresents categories without a specific order.\\nExample: Types of cars (sedan, SUV, truck).\\nOrdinal Data:\\n\\nRepresents categories with a specific order or rank.\\nExample: Customer satisfaction ratings (very satisfied, satisfied, neutral, dissatisfied, very dissatisfied).\\n'"
      ]
     },
     "execution_count": 7,
     "metadata": {},
     "output_type": "execute_result"
    }
   ],
   "source": [
    "'''\n",
    "Q7. How is the nominal data type different from the ordinal data type?\n",
    "Nominal Data:\n",
    "\n",
    "Represents categories without a specific order.\n",
    "Example: Types of cars (sedan, SUV, truck).\n",
    "Ordinal Data:\n",
    "\n",
    "Represents categories with a specific order or rank.\n",
    "Example: Customer satisfaction ratings (very satisfied, satisfied, neutral, dissatisfied, very dissatisfied).\n",
    "'''"
   ]
  },
  {
   "cell_type": "code",
   "execution_count": 8,
   "id": "d0e3ba8f",
   "metadata": {},
   "outputs": [
    {
     "data": {
      "text/plain": [
       "'\\nQ8. Which type of plot can be used to display data in terms of range?\\nA box plot (or box-and-whisker plot) can be used to display data in terms of range. It shows the distribution of data based on \\nminimum, first quartile, median, third quartile, and maximum values.\\n'"
      ]
     },
     "execution_count": 8,
     "metadata": {},
     "output_type": "execute_result"
    }
   ],
   "source": [
    "'''\n",
    "Q8. Which type of plot can be used to display data in terms of range?\n",
    "A box plot (or box-and-whisker plot) can be used to display data in terms of range. It shows the distribution of data based on \n",
    "minimum, first quartile, median, third quartile, and maximum values.\n",
    "'''"
   ]
  },
  {
   "cell_type": "code",
   "execution_count": 9,
   "id": "9f128d3f",
   "metadata": {},
   "outputs": [
    {
     "data": {
      "text/plain": [
       "'\\nQ9. Describe the difference between descriptive and inferential statistics. Give an example of each type of statistics and \\nexplain how they are used.\\nDescriptive Statistics:\\n\\nSummarize and describe data.\\nExample: The average test score of a class. Used to give an overview of the data.\\nInferential Statistics:\\n\\nMake inferences about a population based on a sample.\\nExample: Predicting the average test score of all students in a country based on a sample. Used to make predictions or \\ngeneralizations about a larger population.\\n'"
      ]
     },
     "execution_count": 9,
     "metadata": {},
     "output_type": "execute_result"
    }
   ],
   "source": [
    "'''\n",
    "Q9. Describe the difference between descriptive and inferential statistics. Give an example of each type of statistics and \n",
    "explain how they are used.\n",
    "Descriptive Statistics:\n",
    "\n",
    "Summarize and describe data.\n",
    "Example: The average test score of a class. Used to give an overview of the data.\n",
    "Inferential Statistics:\n",
    "\n",
    "Make inferences about a population based on a sample.\n",
    "Example: Predicting the average test score of all students in a country based on a sample. Used to make predictions or \n",
    "generalizations about a larger population.\n",
    "'''"
   ]
  },
  {
   "cell_type": "code",
   "execution_count": null,
   "id": "d5d9937a",
   "metadata": {},
   "outputs": [],
   "source": [
    "'''\n",
    "Q10. What are some common measures of central tendency and variability used in statistics? Explain how each measure can be used\n",
    "to describe a dataset.\n",
    "Measures of Central Tendency:\n",
    "\n",
    "Mean: The average of all data points. Used to find the central value of a dataset.\n",
    "Median: The middle value when data points are ordered. Used to understand the central tendency in skewed distributions.\n",
    "Mode: The most frequently occurring value. Used to identify the most common value in a dataset.\n",
    "Measures of Variability:\n",
    "\n",
    "Range: The difference between the maximum and minimum values. Indicates the spread of the data.\n",
    "Variance: The average of the squared differences from the mean. Shows how much the data points vary.\n",
    "Standard Deviation: The square root of the variance. Provides a measure of the average distance from the mean.\n",
    "Interquartile Range (IQR): The range between the first quartile (Q1) and the third quartile (Q3). Indicates the spread of the \n",
    "middle 50% of the data.\n",
    "'''"
   ]
  }
 ],
 "metadata": {
  "kernelspec": {
   "display_name": "Python 3 (ipykernel)",
   "language": "python",
   "name": "python3"
  },
  "language_info": {
   "codemirror_mode": {
    "name": "ipython",
    "version": 3
   },
   "file_extension": ".py",
   "mimetype": "text/x-python",
   "name": "python",
   "nbconvert_exporter": "python",
   "pygments_lexer": "ipython3",
   "version": "3.11.4"
  }
 },
 "nbformat": 4,
 "nbformat_minor": 5
}
